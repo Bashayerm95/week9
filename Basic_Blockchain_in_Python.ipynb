{
  "nbformat": 4,
  "nbformat_minor": 0,
  "metadata": {
    "colab": {
      "name": "Basic Blockchain in Python.ipynb",
      "provenance": [],
      "collapsed_sections": [],
      "authorship_tag": "ABX9TyNjpKHvP1rl8vwS9Yib7sRa",
      "include_colab_link": true
    },
    "kernelspec": {
      "name": "python3",
      "display_name": "Python 3"
    },
    "language_info": {
      "name": "python"
    }
  },
  "cells": [
    {
      "cell_type": "markdown",
      "metadata": {
        "id": "view-in-github",
        "colab_type": "text"
      },
      "source": [
        "<a href=\"https://colab.research.google.com/github/Bashayerm95/week9/blob/main/Basic_Blockchain_in_Python.ipynb\" target=\"_parent\"><img src=\"https://colab.research.google.com/assets/colab-badge.svg\" alt=\"Open In Colab\"/></a>"
      ]
    },
    {
      "cell_type": "markdown",
      "source": [
        ""
      ],
      "metadata": {
        "id": "y-oLVJgWSxlW"
      }
    },
    {
      "cell_type": "code",
      "execution_count": 1,
      "metadata": {
        "id": "SXaNb_E3PVlc"
      },
      "outputs": [],
      "source": [
        "# Import:\n",
        "\n",
        "import hashlib\n",
        "import time\n",
        "import json"
      ]
    },
    {
      "cell_type": "markdown",
      "source": [
        "**Let's define each Block to have as properties:**\n",
        "\n",
        "An index: Some non-negative integer indicating which block number it is in the chain.\n",
        "\n",
        "A list of records. Let's call these transactions.\n",
        "\n",
        "A timestamp. Let's call this timestamp.\n",
        "\n",
        "A hash of the current block. Let's call this property hash.\n",
        "\n",
        "The backwards linking hash to the previous block. Let's call this previous_hash.\n",
        "\n",
        "A number-used-once or nonce; as a property called nonce. \n",
        "\n",
        "**For methods we would like our Block class to have:** \n",
        "\n",
        "A constructor. (these are always __init__ in Python)\n",
        "\n",
        "A method to compute it's hash. Let's call this compute_hash.\n",
        "\n",
        "---\n",
        "\n"
      ],
      "metadata": {
        "id": "wpBFwDR1SgnO"
      }
    },
    {
      "cell_type": "code",
      "source": [
        "# Generate transactions:\n",
        "\n",
        "tx_1 = {\n",
        "   \"addr_from\": \"3J98t1WpEZ73CNmQviecrnyiWrnqRhWNLy\",\n",
        "   \"addr_to\": \"1BvBMSEYstWetqTFn5Au4m4GFg9xJaNVN2\",   \n",
        "   \"amount\": 98.00\n",
        "}\n",
        "\n",
        "tx_2 = {\n",
        "   \"addr_from\": \"1Bhghiojjjo7564hknkfvenyilkkhuafd\",\n",
        "   \"addr_to\": \"1BvBMSEYstWetqTFn5Au4m4GFg9xJaNVN2\",   \n",
        "   \"amount\": 99.00\n",
        "}"
      ],
      "metadata": {
        "id": "DbOV2XszPYH_"
      },
      "execution_count": 2,
      "outputs": []
    },
    {
      "cell_type": "code",
      "source": [
        "# Create Block class \n",
        "\n",
        "class Block():\n",
        "    def __init__(self,       \n",
        "                 index:int = 0, \n",
        "                 transactions:list = [],\n",
        "                 timestamp:int = 0,\n",
        "                 cur_hash = \" \", \n",
        "                 previous_hash = \" \",\n",
        "                 nonce:int =0):\n",
        "        \n",
        "        \n",
        "        self.index:int = index \n",
        "        self.transactions:list = transactions \n",
        "        self.timestamp:int = timestamp # timestamp\n",
        "        self.hash = cur_hash # current hash\n",
        "        self.previous_hash = previous_hash \n",
        "        self.nonce:int = nonce \n",
        "            \n",
        "    def compute_hash(self) -> str:\n",
        "        \n",
        "        block_string = json.dumps(self.__dict__, sort_keys=True)  \n",
        "        return hashlib.sha256(block_string.encode()).hexdigest()  "
      ],
      "metadata": {
        "id": "kJ435t7APn0u"
      },
      "execution_count": 3,
      "outputs": []
    },
    {
      "cell_type": "code",
      "source": [
        "b = Block()"
      ],
      "metadata": {
        "id": "E9Fq4uYWPnp1"
      },
      "execution_count": 4,
      "outputs": []
    },
    {
      "cell_type": "code",
      "source": [
        "b.compute_hash()"
      ],
      "metadata": {
        "colab": {
          "base_uri": "https://localhost:8080/",
          "height": 35
        },
        "id": "PNM0uzYtQlME",
        "outputId": "d4a4d47c-7add-47cd-f05a-66a9b94e1a4c"
      },
      "execution_count": 5,
      "outputs": [
        {
          "output_type": "execute_result",
          "data": {
            "application/vnd.google.colaboratory.intrinsic+json": {
              "type": "string"
            },
            "text/plain": [
              "'a9ba1240a88c425347f288fd71b8c452775b608af791ec491b95b353b86c196a'"
            ]
          },
          "metadata": {},
          "execution_count": 5
        }
      ]
    },
    {
      "cell_type": "code",
      "source": [
        "# Create our Blockchain Class\n",
        "# Write the code for unconfirmed_transactions property\n",
        "# Write the code for chain property\n",
        "# Add and initialize the difficulty property\n",
        "# Create genesis_block()\n",
        "# Create other methods\n",
        "\n",
        "class Blockchain:     \n",
        "    def __init__(self):\n",
        "        self.unconfirmed_transactions: List[dict] = []\n",
        "        self.chain:List[Block] = []\n",
        "        self.difficulty:int = 2\n",
        "        self.create_genesis_block()\n",
        "    \n",
        "    def get_last_block(self) -> Block:\n",
        "        return self.chain[-1]\n",
        "        \n",
        "    def create_genesis_block(self): \n",
        "        genesis_block = Block(index = 0,transactions = [],timestamp = time.time(),previous_hash = \"0\")\n",
        "        genesis_block.hash = genesis_block.compute_hash()\n",
        "        self.chain.append(genesis_block) \n",
        "        \n",
        "        \n",
        "   \n",
        "    def proof_of_work(self, block:Block) -> str:\n",
        "        computed_hash = block.compute_hash()\n",
        "        while not computed_hash.startswith('0' * self.difficulty):\n",
        "            block.nonce += 1\n",
        "            computed_hash = block.compute_hash()    \n",
        "        return computed_hash\n",
        "    \n",
        "    \n",
        "    \n",
        "    def is_valid_proof(self, block:Block, block_hash:str) -> bool:\n",
        "        return block_hash.startswith('0' * self.difficulty) and block_hash == block.compute_hash()       \n",
        "        \n",
        "        \n",
        "      \n",
        "    def add_block(self, block:Block, proof:str) -> bool:\n",
        "            last_block = self.get_last_block()\n",
        "            last_block.hash\n",
        "                       \n",
        "            if last_block.hash != block.previous_hash:\n",
        "                return False\n",
        "                       \n",
        "            if not is_valid_proof(block, proof):\n",
        "                return False\n",
        "                 \n",
        "            block.hash = proof\n",
        "            self.chain.append(block)\n",
        "            return True\n",
        "                       \n",
        "                       \n",
        "                      \n",
        "                         \n",
        "    def add_new_transaction(self, transaction:dict) -> None:\n",
        "        self.unconfirmed_transactions.append(transaction)\n",
        "        \n",
        "        \n",
        "        \n",
        "    \n",
        "    def mine (self) -> int: \n",
        "        if len (self.unconfirmed_transactions)<1:\n",
        "            return -1         \n",
        "        last_block = self.get_last_block()\n",
        "        \n",
        "        \n",
        "        new_block = Block(index=last_block.index + 1,\n",
        "                          transactions=self.unconfirmed_transactions,\n",
        "                          timestamp=int(time.time()),\n",
        "                          previous_hash=last_block.hash)\n",
        "                       \n",
        "        proof = self.proof_of_work(new_block)\n",
        "        \n",
        "        if not  self.add_block(new_block,proof):\n",
        "            return -1\n",
        "        \n",
        "        self.unconfirmed_transactions = []\n",
        "        \n",
        "        return new_block.index\n",
        "                       \n",
        "        "
      ],
      "metadata": {
        "id": "abI_UvzNPnez"
      },
      "execution_count": 6,
      "outputs": []
    },
    {
      "cell_type": "code",
      "source": [
        "print(Block.__dict__)"
      ],
      "metadata": {
        "colab": {
          "base_uri": "https://localhost:8080/"
        },
        "id": "dPhO_vlgPnT6",
        "outputId": "31fec5b6-2ba8-4099-f8d7-52a0736b1589"
      },
      "execution_count": 7,
      "outputs": [
        {
          "output_type": "stream",
          "name": "stdout",
          "text": [
            "{'__module__': '__main__', '__init__': <function Block.__init__ at 0x7f35ac236a70>, 'compute_hash': <function Block.compute_hash at 0x7f35ac236b00>, '__dict__': <attribute '__dict__' of 'Block' objects>, '__weakref__': <attribute '__weakref__' of 'Block' objects>, '__doc__': None}\n"
          ]
        }
      ]
    },
    {
      "cell_type": "code",
      "source": [
        "bc = Blockchain()\n",
        "[bc.add_new_transaction(tx) for tx in [tx_1,tx_2]]"
      ],
      "metadata": {
        "colab": {
          "base_uri": "https://localhost:8080/"
        },
        "id": "-F98ejepPmnF",
        "outputId": "c0bc7062-35ff-4baf-87ff-ad9ee5c5b147"
      },
      "execution_count": 8,
      "outputs": [
        {
          "output_type": "execute_result",
          "data": {
            "text/plain": [
              "[None, None]"
            ]
          },
          "metadata": {},
          "execution_count": 8
        }
      ]
    },
    {
      "cell_type": "code",
      "source": [
        "bc.unconfirmed_transactions"
      ],
      "metadata": {
        "colab": {
          "base_uri": "https://localhost:8080/"
        },
        "id": "CdGD9LcVRVdX",
        "outputId": "3c820199-0ab5-4ded-f6ec-e8f33e061f58"
      },
      "execution_count": 9,
      "outputs": [
        {
          "output_type": "execute_result",
          "data": {
            "text/plain": [
              "[{'addr_from': '3J98t1WpEZ73CNmQviecrnyiWrnqRhWNLy',\n",
              "  'addr_to': '1BvBMSEYstWetqTFn5Au4m4GFg9xJaNVN2',\n",
              "  'amount': 98.0},\n",
              " {'addr_from': '1Bhghiojjjo7564hknkfvenyilkkhuafd',\n",
              "  'addr_to': '1BvBMSEYstWetqTFn5Au4m4GFg9xJaNVN2',\n",
              "  'amount': 99.0}]"
            ]
          },
          "metadata": {},
          "execution_count": 9
        }
      ]
    }
  ]
}